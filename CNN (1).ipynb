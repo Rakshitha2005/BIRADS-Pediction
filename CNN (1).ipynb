{
  "nbformat": 4,
  "nbformat_minor": 0,
  "metadata": {
    "colab": {
      "name": "CNN.ipynb",
      "provenance": [],
      "collapsed_sections": []
    },
    "kernelspec": {
      "name": "python3",
      "display_name": "Python 3"
    },
    "language_info": {
      "name": "python"
    },
    "gpuClass": "standard"
  },
  "cells": [
    {
      "cell_type": "code",
      "execution_count": 1,
      "metadata": {
        "id": "mVEdmtbhVKc3",
        "colab": {
          "base_uri": "https://localhost:8080/"
        },
        "outputId": "d12d6b22-a942-4f54-8263-eab13642c22c"
      },
      "outputs": [
        {
          "output_type": "stream",
          "name": "stdout",
          "text": [
            "Mounted at /content/drive\n"
          ]
        }
      ],
      "source": [
        "from google.colab import drive\n",
        "drive.mount('/content/drive')"
      ]
    },
    {
      "cell_type": "code",
      "source": [
        "import numpy as np\n",
        "import pandas as pd\n",
        "import matplotlib.pyplot as plt\n",
        "import seaborn as sns"
      ],
      "metadata": {
        "id": "Ai_8BmaXVzeC"
      },
      "execution_count": 2,
      "outputs": []
    },
    {
      "cell_type": "code",
      "source": [
        "import tensorflow as tf\n",
        "from tensorflow import keras\n",
        "from tensorflow.keras import Sequential\n",
        "from tensorflow.keras.layers import Flatten, Dense, Dropout, BatchNormalization\n",
        "from tensorflow.keras.layers import Conv1D, MaxPool1D\n",
        "\n",
        "from tensorflow.keras.optimizers import Adam\n",
        "print(tf.__version__)"
      ],
      "metadata": {
        "id": "K0nSm2DJWNc5",
        "colab": {
          "base_uri": "https://localhost:8080/"
        },
        "outputId": "2c266a96-6fe7-4607-df16-e72c1e464302"
      },
      "execution_count": 3,
      "outputs": [
        {
          "output_type": "stream",
          "name": "stdout",
          "text": [
            "2.8.2\n"
          ]
        }
      ]
    },
    {
      "cell_type": "code",
      "source": [
        "from sklearn import datasets, metrics\n",
        "from sklearn.model_selection import train_test_split\n",
        "from sklearn.preprocessing import StandardScaler\n",
        "\n"
      ],
      "metadata": {
        "id": "ZkKCgBKRcH6B"
      },
      "execution_count": 4,
      "outputs": []
    },
    {
      "cell_type": "code",
      "source": [
        "#loading data\n",
        "from google.colab import files\n",
        "#uploaded=files.upload()\n",
        "df=pd.read_csv('/content/drive/MyDrive/data.csv')\n",
        "df.head(7) "
      ],
      "metadata": {
        "id": "cIXJM9lZXkba",
        "colab": {
          "base_uri": "https://localhost:8080/",
          "height": 380
        },
        "outputId": "fb8e94f9-102e-43ff-f64a-0ebf62a58d33"
      },
      "execution_count": 5,
      "outputs": [
        {
          "output_type": "execute_result",
          "data": {
            "text/plain": [
              "         id diagnosis  radius_mean  texture_mean  perimeter_mean  area_mean  \\\n",
              "0    842302         M        17.99         10.38          122.80     1001.0   \n",
              "1    842517         M        20.57         17.77          132.90     1326.0   \n",
              "2  84300903         M        19.69         21.25          130.00     1203.0   \n",
              "3  84348301         M        11.42         20.38           77.58      386.1   \n",
              "4  84358402         M        20.29         14.34          135.10     1297.0   \n",
              "5    843786         M        12.45         15.70           82.57      477.1   \n",
              "6    844359         M        18.25         19.98          119.60     1040.0   \n",
              "\n",
              "   smoothness_mean  compactness_mean  concavity_mean  concave points_mean  \\\n",
              "0          0.11840           0.27760          0.3001              0.14710   \n",
              "1          0.08474           0.07864          0.0869              0.07017   \n",
              "2          0.10960           0.15990          0.1974              0.12790   \n",
              "3          0.14250           0.28390          0.2414              0.10520   \n",
              "4          0.10030           0.13280          0.1980              0.10430   \n",
              "5          0.12780           0.17000          0.1578              0.08089   \n",
              "6          0.09463           0.10900          0.1127              0.07400   \n",
              "\n",
              "   ...  texture_worst  perimeter_worst  area_worst  smoothness_worst  \\\n",
              "0  ...          17.33           184.60      2019.0            0.1622   \n",
              "1  ...          23.41           158.80      1956.0            0.1238   \n",
              "2  ...          25.53           152.50      1709.0            0.1444   \n",
              "3  ...          26.50            98.87       567.7            0.2098   \n",
              "4  ...          16.67           152.20      1575.0            0.1374   \n",
              "5  ...          23.75           103.40       741.6            0.1791   \n",
              "6  ...          27.66           153.20      1606.0            0.1442   \n",
              "\n",
              "   compactness_worst  concavity_worst  concave points_worst  symmetry_worst  \\\n",
              "0             0.6656           0.7119                0.2654          0.4601   \n",
              "1             0.1866           0.2416                0.1860          0.2750   \n",
              "2             0.4245           0.4504                0.2430          0.3613   \n",
              "3             0.8663           0.6869                0.2575          0.6638   \n",
              "4             0.2050           0.4000                0.1625          0.2364   \n",
              "5             0.5249           0.5355                0.1741          0.3985   \n",
              "6             0.2576           0.3784                0.1932          0.3063   \n",
              "\n",
              "   fractal_dimension_worst  Unnamed: 32  \n",
              "0                  0.11890          NaN  \n",
              "1                  0.08902          NaN  \n",
              "2                  0.08758          NaN  \n",
              "3                  0.17300          NaN  \n",
              "4                  0.07678          NaN  \n",
              "5                  0.12440          NaN  \n",
              "6                  0.08368          NaN  \n",
              "\n",
              "[7 rows x 33 columns]"
            ],
            "text/html": [
              "\n",
              "  <div id=\"df-007d6551-7da9-4005-8c42-9dd4739013c0\">\n",
              "    <div class=\"colab-df-container\">\n",
              "      <div>\n",
              "<style scoped>\n",
              "    .dataframe tbody tr th:only-of-type {\n",
              "        vertical-align: middle;\n",
              "    }\n",
              "\n",
              "    .dataframe tbody tr th {\n",
              "        vertical-align: top;\n",
              "    }\n",
              "\n",
              "    .dataframe thead th {\n",
              "        text-align: right;\n",
              "    }\n",
              "</style>\n",
              "<table border=\"1\" class=\"dataframe\">\n",
              "  <thead>\n",
              "    <tr style=\"text-align: right;\">\n",
              "      <th></th>\n",
              "      <th>id</th>\n",
              "      <th>diagnosis</th>\n",
              "      <th>radius_mean</th>\n",
              "      <th>texture_mean</th>\n",
              "      <th>perimeter_mean</th>\n",
              "      <th>area_mean</th>\n",
              "      <th>smoothness_mean</th>\n",
              "      <th>compactness_mean</th>\n",
              "      <th>concavity_mean</th>\n",
              "      <th>concave points_mean</th>\n",
              "      <th>...</th>\n",
              "      <th>texture_worst</th>\n",
              "      <th>perimeter_worst</th>\n",
              "      <th>area_worst</th>\n",
              "      <th>smoothness_worst</th>\n",
              "      <th>compactness_worst</th>\n",
              "      <th>concavity_worst</th>\n",
              "      <th>concave points_worst</th>\n",
              "      <th>symmetry_worst</th>\n",
              "      <th>fractal_dimension_worst</th>\n",
              "      <th>Unnamed: 32</th>\n",
              "    </tr>\n",
              "  </thead>\n",
              "  <tbody>\n",
              "    <tr>\n",
              "      <th>0</th>\n",
              "      <td>842302</td>\n",
              "      <td>M</td>\n",
              "      <td>17.99</td>\n",
              "      <td>10.38</td>\n",
              "      <td>122.80</td>\n",
              "      <td>1001.0</td>\n",
              "      <td>0.11840</td>\n",
              "      <td>0.27760</td>\n",
              "      <td>0.3001</td>\n",
              "      <td>0.14710</td>\n",
              "      <td>...</td>\n",
              "      <td>17.33</td>\n",
              "      <td>184.60</td>\n",
              "      <td>2019.0</td>\n",
              "      <td>0.1622</td>\n",
              "      <td>0.6656</td>\n",
              "      <td>0.7119</td>\n",
              "      <td>0.2654</td>\n",
              "      <td>0.4601</td>\n",
              "      <td>0.11890</td>\n",
              "      <td>NaN</td>\n",
              "    </tr>\n",
              "    <tr>\n",
              "      <th>1</th>\n",
              "      <td>842517</td>\n",
              "      <td>M</td>\n",
              "      <td>20.57</td>\n",
              "      <td>17.77</td>\n",
              "      <td>132.90</td>\n",
              "      <td>1326.0</td>\n",
              "      <td>0.08474</td>\n",
              "      <td>0.07864</td>\n",
              "      <td>0.0869</td>\n",
              "      <td>0.07017</td>\n",
              "      <td>...</td>\n",
              "      <td>23.41</td>\n",
              "      <td>158.80</td>\n",
              "      <td>1956.0</td>\n",
              "      <td>0.1238</td>\n",
              "      <td>0.1866</td>\n",
              "      <td>0.2416</td>\n",
              "      <td>0.1860</td>\n",
              "      <td>0.2750</td>\n",
              "      <td>0.08902</td>\n",
              "      <td>NaN</td>\n",
              "    </tr>\n",
              "    <tr>\n",
              "      <th>2</th>\n",
              "      <td>84300903</td>\n",
              "      <td>M</td>\n",
              "      <td>19.69</td>\n",
              "      <td>21.25</td>\n",
              "      <td>130.00</td>\n",
              "      <td>1203.0</td>\n",
              "      <td>0.10960</td>\n",
              "      <td>0.15990</td>\n",
              "      <td>0.1974</td>\n",
              "      <td>0.12790</td>\n",
              "      <td>...</td>\n",
              "      <td>25.53</td>\n",
              "      <td>152.50</td>\n",
              "      <td>1709.0</td>\n",
              "      <td>0.1444</td>\n",
              "      <td>0.4245</td>\n",
              "      <td>0.4504</td>\n",
              "      <td>0.2430</td>\n",
              "      <td>0.3613</td>\n",
              "      <td>0.08758</td>\n",
              "      <td>NaN</td>\n",
              "    </tr>\n",
              "    <tr>\n",
              "      <th>3</th>\n",
              "      <td>84348301</td>\n",
              "      <td>M</td>\n",
              "      <td>11.42</td>\n",
              "      <td>20.38</td>\n",
              "      <td>77.58</td>\n",
              "      <td>386.1</td>\n",
              "      <td>0.14250</td>\n",
              "      <td>0.28390</td>\n",
              "      <td>0.2414</td>\n",
              "      <td>0.10520</td>\n",
              "      <td>...</td>\n",
              "      <td>26.50</td>\n",
              "      <td>98.87</td>\n",
              "      <td>567.7</td>\n",
              "      <td>0.2098</td>\n",
              "      <td>0.8663</td>\n",
              "      <td>0.6869</td>\n",
              "      <td>0.2575</td>\n",
              "      <td>0.6638</td>\n",
              "      <td>0.17300</td>\n",
              "      <td>NaN</td>\n",
              "    </tr>\n",
              "    <tr>\n",
              "      <th>4</th>\n",
              "      <td>84358402</td>\n",
              "      <td>M</td>\n",
              "      <td>20.29</td>\n",
              "      <td>14.34</td>\n",
              "      <td>135.10</td>\n",
              "      <td>1297.0</td>\n",
              "      <td>0.10030</td>\n",
              "      <td>0.13280</td>\n",
              "      <td>0.1980</td>\n",
              "      <td>0.10430</td>\n",
              "      <td>...</td>\n",
              "      <td>16.67</td>\n",
              "      <td>152.20</td>\n",
              "      <td>1575.0</td>\n",
              "      <td>0.1374</td>\n",
              "      <td>0.2050</td>\n",
              "      <td>0.4000</td>\n",
              "      <td>0.1625</td>\n",
              "      <td>0.2364</td>\n",
              "      <td>0.07678</td>\n",
              "      <td>NaN</td>\n",
              "    </tr>\n",
              "    <tr>\n",
              "      <th>5</th>\n",
              "      <td>843786</td>\n",
              "      <td>M</td>\n",
              "      <td>12.45</td>\n",
              "      <td>15.70</td>\n",
              "      <td>82.57</td>\n",
              "      <td>477.1</td>\n",
              "      <td>0.12780</td>\n",
              "      <td>0.17000</td>\n",
              "      <td>0.1578</td>\n",
              "      <td>0.08089</td>\n",
              "      <td>...</td>\n",
              "      <td>23.75</td>\n",
              "      <td>103.40</td>\n",
              "      <td>741.6</td>\n",
              "      <td>0.1791</td>\n",
              "      <td>0.5249</td>\n",
              "      <td>0.5355</td>\n",
              "      <td>0.1741</td>\n",
              "      <td>0.3985</td>\n",
              "      <td>0.12440</td>\n",
              "      <td>NaN</td>\n",
              "    </tr>\n",
              "    <tr>\n",
              "      <th>6</th>\n",
              "      <td>844359</td>\n",
              "      <td>M</td>\n",
              "      <td>18.25</td>\n",
              "      <td>19.98</td>\n",
              "      <td>119.60</td>\n",
              "      <td>1040.0</td>\n",
              "      <td>0.09463</td>\n",
              "      <td>0.10900</td>\n",
              "      <td>0.1127</td>\n",
              "      <td>0.07400</td>\n",
              "      <td>...</td>\n",
              "      <td>27.66</td>\n",
              "      <td>153.20</td>\n",
              "      <td>1606.0</td>\n",
              "      <td>0.1442</td>\n",
              "      <td>0.2576</td>\n",
              "      <td>0.3784</td>\n",
              "      <td>0.1932</td>\n",
              "      <td>0.3063</td>\n",
              "      <td>0.08368</td>\n",
              "      <td>NaN</td>\n",
              "    </tr>\n",
              "  </tbody>\n",
              "</table>\n",
              "<p>7 rows × 33 columns</p>\n",
              "</div>\n",
              "      <button class=\"colab-df-convert\" onclick=\"convertToInteractive('df-007d6551-7da9-4005-8c42-9dd4739013c0')\"\n",
              "              title=\"Convert this dataframe to an interactive table.\"\n",
              "              style=\"display:none;\">\n",
              "        \n",
              "  <svg xmlns=\"http://www.w3.org/2000/svg\" height=\"24px\"viewBox=\"0 0 24 24\"\n",
              "       width=\"24px\">\n",
              "    <path d=\"M0 0h24v24H0V0z\" fill=\"none\"/>\n",
              "    <path d=\"M18.56 5.44l.94 2.06.94-2.06 2.06-.94-2.06-.94-.94-2.06-.94 2.06-2.06.94zm-11 1L8.5 8.5l.94-2.06 2.06-.94-2.06-.94L8.5 2.5l-.94 2.06-2.06.94zm10 10l.94 2.06.94-2.06 2.06-.94-2.06-.94-.94-2.06-.94 2.06-2.06.94z\"/><path d=\"M17.41 7.96l-1.37-1.37c-.4-.4-.92-.59-1.43-.59-.52 0-1.04.2-1.43.59L10.3 9.45l-7.72 7.72c-.78.78-.78 2.05 0 2.83L4 21.41c.39.39.9.59 1.41.59.51 0 1.02-.2 1.41-.59l7.78-7.78 2.81-2.81c.8-.78.8-2.07 0-2.86zM5.41 20L4 18.59l7.72-7.72 1.47 1.35L5.41 20z\"/>\n",
              "  </svg>\n",
              "      </button>\n",
              "      \n",
              "  <style>\n",
              "    .colab-df-container {\n",
              "      display:flex;\n",
              "      flex-wrap:wrap;\n",
              "      gap: 12px;\n",
              "    }\n",
              "\n",
              "    .colab-df-convert {\n",
              "      background-color: #E8F0FE;\n",
              "      border: none;\n",
              "      border-radius: 50%;\n",
              "      cursor: pointer;\n",
              "      display: none;\n",
              "      fill: #1967D2;\n",
              "      height: 32px;\n",
              "      padding: 0 0 0 0;\n",
              "      width: 32px;\n",
              "    }\n",
              "\n",
              "    .colab-df-convert:hover {\n",
              "      background-color: #E2EBFA;\n",
              "      box-shadow: 0px 1px 2px rgba(60, 64, 67, 0.3), 0px 1px 3px 1px rgba(60, 64, 67, 0.15);\n",
              "      fill: #174EA6;\n",
              "    }\n",
              "\n",
              "    [theme=dark] .colab-df-convert {\n",
              "      background-color: #3B4455;\n",
              "      fill: #D2E3FC;\n",
              "    }\n",
              "\n",
              "    [theme=dark] .colab-df-convert:hover {\n",
              "      background-color: #434B5C;\n",
              "      box-shadow: 0px 1px 3px 1px rgba(0, 0, 0, 0.15);\n",
              "      filter: drop-shadow(0px 1px 2px rgba(0, 0, 0, 0.3));\n",
              "      fill: #FFFFFF;\n",
              "    }\n",
              "  </style>\n",
              "\n",
              "      <script>\n",
              "        const buttonEl =\n",
              "          document.querySelector('#df-007d6551-7da9-4005-8c42-9dd4739013c0 button.colab-df-convert');\n",
              "        buttonEl.style.display =\n",
              "          google.colab.kernel.accessAllowed ? 'block' : 'none';\n",
              "\n",
              "        async function convertToInteractive(key) {\n",
              "          const element = document.querySelector('#df-007d6551-7da9-4005-8c42-9dd4739013c0');\n",
              "          const dataTable =\n",
              "            await google.colab.kernel.invokeFunction('convertToInteractive',\n",
              "                                                     [key], {});\n",
              "          if (!dataTable) return;\n",
              "\n",
              "          const docLinkHtml = 'Like what you see? Visit the ' +\n",
              "            '<a target=\"_blank\" href=https://colab.research.google.com/notebooks/data_table.ipynb>data table notebook</a>'\n",
              "            + ' to learn more about interactive tables.';\n",
              "          element.innerHTML = '';\n",
              "          dataTable['output_type'] = 'display_data';\n",
              "          await google.colab.output.renderOutput(dataTable, element);\n",
              "          const docLink = document.createElement('div');\n",
              "          docLink.innerHTML = docLinkHtml;\n",
              "          element.appendChild(docLink);\n",
              "        }\n",
              "      </script>\n",
              "    </div>\n",
              "  </div>\n",
              "  "
            ]
          },
          "metadata": {},
          "execution_count": 5
        }
      ]
    },
    {
      "cell_type": "code",
      "source": [
        "df.shape"
      ],
      "metadata": {
        "id": "fnBxtuhKazAv",
        "colab": {
          "base_uri": "https://localhost:8080/"
        },
        "outputId": "1c3fbf85-b490-44c9-9351-9926ee13af35"
      },
      "execution_count": 6,
      "outputs": [
        {
          "output_type": "execute_result",
          "data": {
            "text/plain": [
              "(569, 33)"
            ]
          },
          "metadata": {},
          "execution_count": 6
        }
      ]
    },
    {
      "cell_type": "code",
      "source": [
        "df.describe()"
      ],
      "metadata": {
        "colab": {
          "base_uri": "https://localhost:8080/",
          "height": 411
        },
        "id": "jqW1mvy2eYEj",
        "outputId": "cbfd4ae1-9b10-490c-ab66-44f201f78a8a"
      },
      "execution_count": 7,
      "outputs": [
        {
          "output_type": "execute_result",
          "data": {
            "text/plain": [
              "                 id  radius_mean  texture_mean  perimeter_mean    area_mean  \\\n",
              "count  5.690000e+02   569.000000    569.000000      569.000000   569.000000   \n",
              "mean   3.037183e+07    14.127292     19.289649       91.969033   654.889104   \n",
              "std    1.250206e+08     3.524049      4.301036       24.298981   351.914129   \n",
              "min    8.670000e+03     6.981000      9.710000       43.790000   143.500000   \n",
              "25%    8.692180e+05    11.700000     16.170000       75.170000   420.300000   \n",
              "50%    9.060240e+05    13.370000     18.840000       86.240000   551.100000   \n",
              "75%    8.813129e+06    15.780000     21.800000      104.100000   782.700000   \n",
              "max    9.113205e+08    28.110000     39.280000      188.500000  2501.000000   \n",
              "\n",
              "       smoothness_mean  compactness_mean  concavity_mean  concave points_mean  \\\n",
              "count       569.000000        569.000000      569.000000           569.000000   \n",
              "mean          0.096360          0.104341        0.088799             0.048919   \n",
              "std           0.014064          0.052813        0.079720             0.038803   \n",
              "min           0.052630          0.019380        0.000000             0.000000   \n",
              "25%           0.086370          0.064920        0.029560             0.020310   \n",
              "50%           0.095870          0.092630        0.061540             0.033500   \n",
              "75%           0.105300          0.130400        0.130700             0.074000   \n",
              "max           0.163400          0.345400        0.426800             0.201200   \n",
              "\n",
              "       symmetry_mean  ...  texture_worst  perimeter_worst   area_worst  \\\n",
              "count     569.000000  ...     569.000000       569.000000   569.000000   \n",
              "mean        0.181162  ...      25.677223       107.261213   880.583128   \n",
              "std         0.027414  ...       6.146258        33.602542   569.356993   \n",
              "min         0.106000  ...      12.020000        50.410000   185.200000   \n",
              "25%         0.161900  ...      21.080000        84.110000   515.300000   \n",
              "50%         0.179200  ...      25.410000        97.660000   686.500000   \n",
              "75%         0.195700  ...      29.720000       125.400000  1084.000000   \n",
              "max         0.304000  ...      49.540000       251.200000  4254.000000   \n",
              "\n",
              "       smoothness_worst  compactness_worst  concavity_worst  \\\n",
              "count        569.000000         569.000000       569.000000   \n",
              "mean           0.132369           0.254265         0.272188   \n",
              "std            0.022832           0.157336         0.208624   \n",
              "min            0.071170           0.027290         0.000000   \n",
              "25%            0.116600           0.147200         0.114500   \n",
              "50%            0.131300           0.211900         0.226700   \n",
              "75%            0.146000           0.339100         0.382900   \n",
              "max            0.222600           1.058000         1.252000   \n",
              "\n",
              "       concave points_worst  symmetry_worst  fractal_dimension_worst  \\\n",
              "count            569.000000      569.000000               569.000000   \n",
              "mean               0.114606        0.290076                 0.083946   \n",
              "std                0.065732        0.061867                 0.018061   \n",
              "min                0.000000        0.156500                 0.055040   \n",
              "25%                0.064930        0.250400                 0.071460   \n",
              "50%                0.099930        0.282200                 0.080040   \n",
              "75%                0.161400        0.317900                 0.092080   \n",
              "max                0.291000        0.663800                 0.207500   \n",
              "\n",
              "       Unnamed: 32  \n",
              "count          0.0  \n",
              "mean           NaN  \n",
              "std            NaN  \n",
              "min            NaN  \n",
              "25%            NaN  \n",
              "50%            NaN  \n",
              "75%            NaN  \n",
              "max            NaN  \n",
              "\n",
              "[8 rows x 32 columns]"
            ],
            "text/html": [
              "\n",
              "  <div id=\"df-f8d5e115-a0ec-472d-8e4e-9eacd1fda6f4\">\n",
              "    <div class=\"colab-df-container\">\n",
              "      <div>\n",
              "<style scoped>\n",
              "    .dataframe tbody tr th:only-of-type {\n",
              "        vertical-align: middle;\n",
              "    }\n",
              "\n",
              "    .dataframe tbody tr th {\n",
              "        vertical-align: top;\n",
              "    }\n",
              "\n",
              "    .dataframe thead th {\n",
              "        text-align: right;\n",
              "    }\n",
              "</style>\n",
              "<table border=\"1\" class=\"dataframe\">\n",
              "  <thead>\n",
              "    <tr style=\"text-align: right;\">\n",
              "      <th></th>\n",
              "      <th>id</th>\n",
              "      <th>radius_mean</th>\n",
              "      <th>texture_mean</th>\n",
              "      <th>perimeter_mean</th>\n",
              "      <th>area_mean</th>\n",
              "      <th>smoothness_mean</th>\n",
              "      <th>compactness_mean</th>\n",
              "      <th>concavity_mean</th>\n",
              "      <th>concave points_mean</th>\n",
              "      <th>symmetry_mean</th>\n",
              "      <th>...</th>\n",
              "      <th>texture_worst</th>\n",
              "      <th>perimeter_worst</th>\n",
              "      <th>area_worst</th>\n",
              "      <th>smoothness_worst</th>\n",
              "      <th>compactness_worst</th>\n",
              "      <th>concavity_worst</th>\n",
              "      <th>concave points_worst</th>\n",
              "      <th>symmetry_worst</th>\n",
              "      <th>fractal_dimension_worst</th>\n",
              "      <th>Unnamed: 32</th>\n",
              "    </tr>\n",
              "  </thead>\n",
              "  <tbody>\n",
              "    <tr>\n",
              "      <th>count</th>\n",
              "      <td>5.690000e+02</td>\n",
              "      <td>569.000000</td>\n",
              "      <td>569.000000</td>\n",
              "      <td>569.000000</td>\n",
              "      <td>569.000000</td>\n",
              "      <td>569.000000</td>\n",
              "      <td>569.000000</td>\n",
              "      <td>569.000000</td>\n",
              "      <td>569.000000</td>\n",
              "      <td>569.000000</td>\n",
              "      <td>...</td>\n",
              "      <td>569.000000</td>\n",
              "      <td>569.000000</td>\n",
              "      <td>569.000000</td>\n",
              "      <td>569.000000</td>\n",
              "      <td>569.000000</td>\n",
              "      <td>569.000000</td>\n",
              "      <td>569.000000</td>\n",
              "      <td>569.000000</td>\n",
              "      <td>569.000000</td>\n",
              "      <td>0.0</td>\n",
              "    </tr>\n",
              "    <tr>\n",
              "      <th>mean</th>\n",
              "      <td>3.037183e+07</td>\n",
              "      <td>14.127292</td>\n",
              "      <td>19.289649</td>\n",
              "      <td>91.969033</td>\n",
              "      <td>654.889104</td>\n",
              "      <td>0.096360</td>\n",
              "      <td>0.104341</td>\n",
              "      <td>0.088799</td>\n",
              "      <td>0.048919</td>\n",
              "      <td>0.181162</td>\n",
              "      <td>...</td>\n",
              "      <td>25.677223</td>\n",
              "      <td>107.261213</td>\n",
              "      <td>880.583128</td>\n",
              "      <td>0.132369</td>\n",
              "      <td>0.254265</td>\n",
              "      <td>0.272188</td>\n",
              "      <td>0.114606</td>\n",
              "      <td>0.290076</td>\n",
              "      <td>0.083946</td>\n",
              "      <td>NaN</td>\n",
              "    </tr>\n",
              "    <tr>\n",
              "      <th>std</th>\n",
              "      <td>1.250206e+08</td>\n",
              "      <td>3.524049</td>\n",
              "      <td>4.301036</td>\n",
              "      <td>24.298981</td>\n",
              "      <td>351.914129</td>\n",
              "      <td>0.014064</td>\n",
              "      <td>0.052813</td>\n",
              "      <td>0.079720</td>\n",
              "      <td>0.038803</td>\n",
              "      <td>0.027414</td>\n",
              "      <td>...</td>\n",
              "      <td>6.146258</td>\n",
              "      <td>33.602542</td>\n",
              "      <td>569.356993</td>\n",
              "      <td>0.022832</td>\n",
              "      <td>0.157336</td>\n",
              "      <td>0.208624</td>\n",
              "      <td>0.065732</td>\n",
              "      <td>0.061867</td>\n",
              "      <td>0.018061</td>\n",
              "      <td>NaN</td>\n",
              "    </tr>\n",
              "    <tr>\n",
              "      <th>min</th>\n",
              "      <td>8.670000e+03</td>\n",
              "      <td>6.981000</td>\n",
              "      <td>9.710000</td>\n",
              "      <td>43.790000</td>\n",
              "      <td>143.500000</td>\n",
              "      <td>0.052630</td>\n",
              "      <td>0.019380</td>\n",
              "      <td>0.000000</td>\n",
              "      <td>0.000000</td>\n",
              "      <td>0.106000</td>\n",
              "      <td>...</td>\n",
              "      <td>12.020000</td>\n",
              "      <td>50.410000</td>\n",
              "      <td>185.200000</td>\n",
              "      <td>0.071170</td>\n",
              "      <td>0.027290</td>\n",
              "      <td>0.000000</td>\n",
              "      <td>0.000000</td>\n",
              "      <td>0.156500</td>\n",
              "      <td>0.055040</td>\n",
              "      <td>NaN</td>\n",
              "    </tr>\n",
              "    <tr>\n",
              "      <th>25%</th>\n",
              "      <td>8.692180e+05</td>\n",
              "      <td>11.700000</td>\n",
              "      <td>16.170000</td>\n",
              "      <td>75.170000</td>\n",
              "      <td>420.300000</td>\n",
              "      <td>0.086370</td>\n",
              "      <td>0.064920</td>\n",
              "      <td>0.029560</td>\n",
              "      <td>0.020310</td>\n",
              "      <td>0.161900</td>\n",
              "      <td>...</td>\n",
              "      <td>21.080000</td>\n",
              "      <td>84.110000</td>\n",
              "      <td>515.300000</td>\n",
              "      <td>0.116600</td>\n",
              "      <td>0.147200</td>\n",
              "      <td>0.114500</td>\n",
              "      <td>0.064930</td>\n",
              "      <td>0.250400</td>\n",
              "      <td>0.071460</td>\n",
              "      <td>NaN</td>\n",
              "    </tr>\n",
              "    <tr>\n",
              "      <th>50%</th>\n",
              "      <td>9.060240e+05</td>\n",
              "      <td>13.370000</td>\n",
              "      <td>18.840000</td>\n",
              "      <td>86.240000</td>\n",
              "      <td>551.100000</td>\n",
              "      <td>0.095870</td>\n",
              "      <td>0.092630</td>\n",
              "      <td>0.061540</td>\n",
              "      <td>0.033500</td>\n",
              "      <td>0.179200</td>\n",
              "      <td>...</td>\n",
              "      <td>25.410000</td>\n",
              "      <td>97.660000</td>\n",
              "      <td>686.500000</td>\n",
              "      <td>0.131300</td>\n",
              "      <td>0.211900</td>\n",
              "      <td>0.226700</td>\n",
              "      <td>0.099930</td>\n",
              "      <td>0.282200</td>\n",
              "      <td>0.080040</td>\n",
              "      <td>NaN</td>\n",
              "    </tr>\n",
              "    <tr>\n",
              "      <th>75%</th>\n",
              "      <td>8.813129e+06</td>\n",
              "      <td>15.780000</td>\n",
              "      <td>21.800000</td>\n",
              "      <td>104.100000</td>\n",
              "      <td>782.700000</td>\n",
              "      <td>0.105300</td>\n",
              "      <td>0.130400</td>\n",
              "      <td>0.130700</td>\n",
              "      <td>0.074000</td>\n",
              "      <td>0.195700</td>\n",
              "      <td>...</td>\n",
              "      <td>29.720000</td>\n",
              "      <td>125.400000</td>\n",
              "      <td>1084.000000</td>\n",
              "      <td>0.146000</td>\n",
              "      <td>0.339100</td>\n",
              "      <td>0.382900</td>\n",
              "      <td>0.161400</td>\n",
              "      <td>0.317900</td>\n",
              "      <td>0.092080</td>\n",
              "      <td>NaN</td>\n",
              "    </tr>\n",
              "    <tr>\n",
              "      <th>max</th>\n",
              "      <td>9.113205e+08</td>\n",
              "      <td>28.110000</td>\n",
              "      <td>39.280000</td>\n",
              "      <td>188.500000</td>\n",
              "      <td>2501.000000</td>\n",
              "      <td>0.163400</td>\n",
              "      <td>0.345400</td>\n",
              "      <td>0.426800</td>\n",
              "      <td>0.201200</td>\n",
              "      <td>0.304000</td>\n",
              "      <td>...</td>\n",
              "      <td>49.540000</td>\n",
              "      <td>251.200000</td>\n",
              "      <td>4254.000000</td>\n",
              "      <td>0.222600</td>\n",
              "      <td>1.058000</td>\n",
              "      <td>1.252000</td>\n",
              "      <td>0.291000</td>\n",
              "      <td>0.663800</td>\n",
              "      <td>0.207500</td>\n",
              "      <td>NaN</td>\n",
              "    </tr>\n",
              "  </tbody>\n",
              "</table>\n",
              "<p>8 rows × 32 columns</p>\n",
              "</div>\n",
              "      <button class=\"colab-df-convert\" onclick=\"convertToInteractive('df-f8d5e115-a0ec-472d-8e4e-9eacd1fda6f4')\"\n",
              "              title=\"Convert this dataframe to an interactive table.\"\n",
              "              style=\"display:none;\">\n",
              "        \n",
              "  <svg xmlns=\"http://www.w3.org/2000/svg\" height=\"24px\"viewBox=\"0 0 24 24\"\n",
              "       width=\"24px\">\n",
              "    <path d=\"M0 0h24v24H0V0z\" fill=\"none\"/>\n",
              "    <path d=\"M18.56 5.44l.94 2.06.94-2.06 2.06-.94-2.06-.94-.94-2.06-.94 2.06-2.06.94zm-11 1L8.5 8.5l.94-2.06 2.06-.94-2.06-.94L8.5 2.5l-.94 2.06-2.06.94zm10 10l.94 2.06.94-2.06 2.06-.94-2.06-.94-.94-2.06-.94 2.06-2.06.94z\"/><path d=\"M17.41 7.96l-1.37-1.37c-.4-.4-.92-.59-1.43-.59-.52 0-1.04.2-1.43.59L10.3 9.45l-7.72 7.72c-.78.78-.78 2.05 0 2.83L4 21.41c.39.39.9.59 1.41.59.51 0 1.02-.2 1.41-.59l7.78-7.78 2.81-2.81c.8-.78.8-2.07 0-2.86zM5.41 20L4 18.59l7.72-7.72 1.47 1.35L5.41 20z\"/>\n",
              "  </svg>\n",
              "      </button>\n",
              "      \n",
              "  <style>\n",
              "    .colab-df-container {\n",
              "      display:flex;\n",
              "      flex-wrap:wrap;\n",
              "      gap: 12px;\n",
              "    }\n",
              "\n",
              "    .colab-df-convert {\n",
              "      background-color: #E8F0FE;\n",
              "      border: none;\n",
              "      border-radius: 50%;\n",
              "      cursor: pointer;\n",
              "      display: none;\n",
              "      fill: #1967D2;\n",
              "      height: 32px;\n",
              "      padding: 0 0 0 0;\n",
              "      width: 32px;\n",
              "    }\n",
              "\n",
              "    .colab-df-convert:hover {\n",
              "      background-color: #E2EBFA;\n",
              "      box-shadow: 0px 1px 2px rgba(60, 64, 67, 0.3), 0px 1px 3px 1px rgba(60, 64, 67, 0.15);\n",
              "      fill: #174EA6;\n",
              "    }\n",
              "\n",
              "    [theme=dark] .colab-df-convert {\n",
              "      background-color: #3B4455;\n",
              "      fill: #D2E3FC;\n",
              "    }\n",
              "\n",
              "    [theme=dark] .colab-df-convert:hover {\n",
              "      background-color: #434B5C;\n",
              "      box-shadow: 0px 1px 3px 1px rgba(0, 0, 0, 0.15);\n",
              "      filter: drop-shadow(0px 1px 2px rgba(0, 0, 0, 0.3));\n",
              "      fill: #FFFFFF;\n",
              "    }\n",
              "  </style>\n",
              "\n",
              "      <script>\n",
              "        const buttonEl =\n",
              "          document.querySelector('#df-f8d5e115-a0ec-472d-8e4e-9eacd1fda6f4 button.colab-df-convert');\n",
              "        buttonEl.style.display =\n",
              "          google.colab.kernel.accessAllowed ? 'block' : 'none';\n",
              "\n",
              "        async function convertToInteractive(key) {\n",
              "          const element = document.querySelector('#df-f8d5e115-a0ec-472d-8e4e-9eacd1fda6f4');\n",
              "          const dataTable =\n",
              "            await google.colab.kernel.invokeFunction('convertToInteractive',\n",
              "                                                     [key], {});\n",
              "          if (!dataTable) return;\n",
              "\n",
              "          const docLinkHtml = 'Like what you see? Visit the ' +\n",
              "            '<a target=\"_blank\" href=https://colab.research.google.com/notebooks/data_table.ipynb>data table notebook</a>'\n",
              "            + ' to learn more about interactive tables.';\n",
              "          element.innerHTML = '';\n",
              "          dataTable['output_type'] = 'display_data';\n",
              "          await google.colab.output.renderOutput(dataTable, element);\n",
              "          const docLink = document.createElement('div');\n",
              "          docLink.innerHTML = docLinkHtml;\n",
              "          element.appendChild(docLink);\n",
              "        }\n",
              "      </script>\n",
              "    </div>\n",
              "  </div>\n",
              "  "
            ]
          },
          "metadata": {},
          "execution_count": 7
        }
      ]
    },
    {
      "cell_type": "code",
      "source": [
        "#count on number of empty values\n",
        "df.isna().sum()"
      ],
      "metadata": {
        "id": "J6GA8f63bQsR",
        "colab": {
          "base_uri": "https://localhost:8080/"
        },
        "outputId": "dda2dfee-455c-4725-eeb2-07c7284e97d6"
      },
      "execution_count": 8,
      "outputs": [
        {
          "output_type": "execute_result",
          "data": {
            "text/plain": [
              "id                           0\n",
              "diagnosis                    0\n",
              "radius_mean                  0\n",
              "texture_mean                 0\n",
              "perimeter_mean               0\n",
              "area_mean                    0\n",
              "smoothness_mean              0\n",
              "compactness_mean             0\n",
              "concavity_mean               0\n",
              "concave points_mean          0\n",
              "symmetry_mean                0\n",
              "fractal_dimension_mean       0\n",
              "radius_se                    0\n",
              "texture_se                   0\n",
              "perimeter_se                 0\n",
              "area_se                      0\n",
              "smoothness_se                0\n",
              "compactness_se               0\n",
              "concavity_se                 0\n",
              "concave points_se            0\n",
              "symmetry_se                  0\n",
              "fractal_dimension_se         0\n",
              "radius_worst                 0\n",
              "texture_worst                0\n",
              "perimeter_worst              0\n",
              "area_worst                   0\n",
              "smoothness_worst             0\n",
              "compactness_worst            0\n",
              "concavity_worst              0\n",
              "concave points_worst         0\n",
              "symmetry_worst               0\n",
              "fractal_dimension_worst      0\n",
              "Unnamed: 32                569\n",
              "dtype: int64"
            ]
          },
          "metadata": {},
          "execution_count": 8
        }
      ]
    },
    {
      "cell_type": "code",
      "source": [
        "#remove empty col\n",
        "df.drop(['Unnamed: 32','id'],axis=1,inplace=True)"
      ],
      "metadata": {
        "id": "QpmJotL-bUDX"
      },
      "execution_count": 9,
      "outputs": []
    },
    {
      "cell_type": "code",
      "source": [
        "df.isna().sum()"
      ],
      "metadata": {
        "colab": {
          "base_uri": "https://localhost:8080/"
        },
        "id": "kRXFEw9ZhEFe",
        "outputId": "e907e8a9-eb95-43dc-836f-1f0d88aa6996"
      },
      "execution_count": 10,
      "outputs": [
        {
          "output_type": "execute_result",
          "data": {
            "text/plain": [
              "diagnosis                  0\n",
              "radius_mean                0\n",
              "texture_mean               0\n",
              "perimeter_mean             0\n",
              "area_mean                  0\n",
              "smoothness_mean            0\n",
              "compactness_mean           0\n",
              "concavity_mean             0\n",
              "concave points_mean        0\n",
              "symmetry_mean              0\n",
              "fractal_dimension_mean     0\n",
              "radius_se                  0\n",
              "texture_se                 0\n",
              "perimeter_se               0\n",
              "area_se                    0\n",
              "smoothness_se              0\n",
              "compactness_se             0\n",
              "concavity_se               0\n",
              "concave points_se          0\n",
              "symmetry_se                0\n",
              "fractal_dimension_se       0\n",
              "radius_worst               0\n",
              "texture_worst              0\n",
              "perimeter_worst            0\n",
              "area_worst                 0\n",
              "smoothness_worst           0\n",
              "compactness_worst          0\n",
              "concavity_worst            0\n",
              "concave points_worst       0\n",
              "symmetry_worst             0\n",
              "fractal_dimension_worst    0\n",
              "dtype: int64"
            ]
          },
          "metadata": {},
          "execution_count": 10
        }
      ]
    },
    {
      "cell_type": "code",
      "source": [
        "#count of malognant and benign cells\n",
        "df['diagnosis'].value_counts()"
      ],
      "metadata": {
        "id": "NROH1BlmbWrR",
        "colab": {
          "base_uri": "https://localhost:8080/"
        },
        "outputId": "2f28b2a9-ab33-4eb0-f5f4-3fe62f1222a8"
      },
      "execution_count": 11,
      "outputs": [
        {
          "output_type": "execute_result",
          "data": {
            "text/plain": [
              "B    357\n",
              "M    212\n",
              "Name: diagnosis, dtype: int64"
            ]
          },
          "metadata": {},
          "execution_count": 11
        }
      ]
    },
    {
      "cell_type": "code",
      "source": [
        "#count of b and m\n",
        "sns.countplot(df['diagnosis'],label='count')"
      ],
      "metadata": {
        "id": "3ygAHSGebaOh",
        "colab": {
          "base_uri": "https://localhost:8080/",
          "height": 351
        },
        "outputId": "975edaba-3422-404b-9b79-c5759417b648"
      },
      "execution_count": 12,
      "outputs": [
        {
          "output_type": "stream",
          "name": "stderr",
          "text": [
            "/usr/local/lib/python3.7/dist-packages/seaborn/_decorators.py:43: FutureWarning: Pass the following variable as a keyword arg: x. From version 0.12, the only valid positional argument will be `data`, and passing other arguments without an explicit keyword will result in an error or misinterpretation.\n",
            "  FutureWarning\n"
          ]
        },
        {
          "output_type": "execute_result",
          "data": {
            "text/plain": [
              "<matplotlib.axes._subplots.AxesSubplot at 0x7fbee93f8e90>"
            ]
          },
          "metadata": {},
          "execution_count": 12
        },
        {
          "output_type": "display_data",
          "data": {
            "text/plain": [
              "<Figure size 432x288 with 1 Axes>"
            ],
            "image/png": "[encoded data removed]"
          },
          "metadata": {
            "needs_background": "light"
          }
        }
      ]
    },
    {
      "cell_type": "code",
      "source": [
        "#data types to see which colums need to be encoded\n",
        "df.dtypes"
      ],
      "metadata": {
        "id": "Ju_A9ZqEbcr7",
        "colab": {
          "base_uri": "https://localhost:8080/"
        },
        "outputId": "250e6065-000c-4e30-98b3-ec807b89593f"
      },
      "execution_count": 13,
      "outputs": [
        {
          "output_type": "execute_result",
          "data": {
            "text/plain": [
              "diagnosis                   object\n",
              "radius_mean                float64\n",
              "texture_mean               float64\n",
              "perimeter_mean             float64\n",
              "area_mean                  float64\n",
              "smoothness_mean            float64\n",
              "compactness_mean           float64\n",
              "concavity_mean             float64\n",
              "concave points_mean        float64\n",
              "symmetry_mean              float64\n",
              "fractal_dimension_mean     float64\n",
              "radius_se                  float64\n",
              "texture_se                 float64\n",
              "perimeter_se               float64\n",
              "area_se                    float64\n",
              "smoothness_se              float64\n",
              "compactness_se             float64\n",
              "concavity_se               float64\n",
              "concave points_se          float64\n",
              "symmetry_se                float64\n",
              "fractal_dimension_se       float64\n",
              "radius_worst               float64\n",
              "texture_worst              float64\n",
              "perimeter_worst            float64\n",
              "area_worst                 float64\n",
              "smoothness_worst           float64\n",
              "compactness_worst          float64\n",
              "concavity_worst            float64\n",
              "concave points_worst       float64\n",
              "symmetry_worst             float64\n",
              "fractal_dimension_worst    float64\n",
              "dtype: object"
            ]
          },
          "metadata": {},
          "execution_count": 13
        }
      ]
    },
    {
      "cell_type": "code",
      "source": [
        "df['diagnosis'].replace('M',1,inplace=True)\n",
        "df['diagnosis'].replace('B',0,inplace=True)"
      ],
      "metadata": {
        "id": "JLrvjAQ8TQxy"
      },
      "execution_count": 14,
      "outputs": []
    },
    {
      "cell_type": "code",
      "source": [
        "#split into independent x and dependent y\n",
        "X=np.array(df.drop('diagnosis',axis=1))\n",
        "Y=np.array(df.diagnosis)"
      ],
      "metadata": {
        "id": "9Cg0KN8lbrnQ"
      },
      "execution_count": 15,
      "outputs": []
    },
    {
      "cell_type": "code",
      "source": [
        "Y"
      ],
      "metadata": {
        "colab": {
          "base_uri": "https://localhost:8080/"
        },
        "id": "dyqphGolr4gA",
        "outputId": "4bf6762a-be18-43b5-857a-9c49b7c97be6"
      },
      "execution_count": 16,
      "outputs": [
        {
          "output_type": "execute_result",
          "data": {
            "text/plain": [
              "array([1, 1, 1, 1, 1, 1, 1, 1, 1, 1, 1, 1, 1, 1, 1, 1, 1, 1, 1, 0, 0, 0,\n",
              "       1, 1, 1, 1, 1, 1, 1, 1, 1, 1, 1, 1, 1, 1, 1, 0, 1, 1, 1, 1, 1, 1,\n",
              "       1, 1, 0, 1, 0, 0, 0, 0, 0, 1, 1, 0, 1, 1, 0, 0, 0, 0, 1, 0, 1, 1,\n",
              "       0, 0, 0, 0, 1, 0, 1, 1, 0, 1, 0, 1, 1, 0, 0, 0, 1, 1, 0, 1, 1, 1,\n",
              "       0, 0, 0, 1, 0, 0, 1, 1, 0, 0, 0, 1, 1, 0, 0, 0, 0, 1, 0, 0, 1, 0,\n",
              "       0, 0, 0, 0, 0, 0, 0, 1, 1, 1, 0, 1, 1, 0, 0, 0, 1, 1, 0, 1, 0, 1,\n",
              "       1, 0, 1, 1, 0, 0, 1, 0, 0, 1, 0, 0, 0, 0, 1, 0, 0, 0, 0, 0, 0, 0,\n",
              "       0, 0, 1, 0, 0, 0, 0, 1, 1, 0, 1, 0, 0, 1, 1, 0, 0, 1, 1, 0, 0, 0,\n",
              "       0, 1, 0, 0, 1, 1, 1, 0, 1, 0, 1, 0, 0, 0, 1, 0, 0, 1, 1, 0, 1, 1,\n",
              "       1, 1, 0, 1, 1, 1, 0, 1, 0, 1, 0, 0, 1, 0, 1, 1, 1, 1, 0, 0, 1, 1,\n",
              "       0, 0, 0, 1, 0, 0, 0, 0, 0, 1, 1, 0, 0, 1, 0, 0, 1, 1, 0, 1, 0, 0,\n",
              "       0, 0, 1, 0, 0, 0, 0, 0, 1, 0, 1, 1, 1, 1, 1, 1, 1, 1, 1, 1, 1, 1,\n",
              "       1, 1, 0, 0, 0, 0, 0, 0, 1, 0, 1, 0, 0, 1, 0, 0, 1, 0, 1, 1, 0, 0,\n",
              "       0, 0, 0, 0, 0, 0, 0, 0, 0, 0, 0, 1, 0, 0, 1, 0, 1, 0, 0, 0, 0, 0,\n",
              "       0, 0, 0, 0, 0, 0, 0, 0, 0, 1, 0, 0, 0, 1, 0, 1, 0, 0, 0, 0, 1, 1,\n",
              "       1, 0, 0, 0, 0, 1, 0, 1, 0, 1, 0, 0, 0, 1, 0, 0, 0, 0, 0, 0, 0, 1,\n",
              "       1, 1, 0, 0, 0, 0, 0, 0, 0, 0, 0, 0, 0, 1, 1, 0, 1, 1, 1, 0, 1, 1,\n",
              "       0, 0, 0, 0, 0, 1, 0, 0, 0, 0, 0, 1, 0, 0, 0, 1, 0, 0, 1, 1, 0, 0,\n",
              "       0, 0, 0, 0, 1, 0, 0, 0, 0, 0, 0, 0, 1, 0, 0, 0, 0, 0, 1, 0, 0, 1,\n",
              "       0, 0, 0, 0, 0, 0, 0, 0, 0, 0, 0, 0, 1, 0, 1, 1, 0, 1, 0, 0, 0, 0,\n",
              "       0, 1, 0, 0, 1, 0, 1, 0, 0, 1, 0, 1, 0, 0, 0, 0, 0, 0, 0, 0, 1, 1,\n",
              "       0, 0, 0, 0, 0, 0, 1, 0, 0, 0, 0, 0, 0, 0, 0, 0, 0, 1, 0, 0, 0, 0,\n",
              "       0, 0, 0, 1, 0, 1, 0, 0, 1, 0, 0, 0, 0, 0, 1, 1, 0, 1, 0, 1, 0, 0,\n",
              "       0, 0, 0, 1, 0, 0, 1, 0, 1, 0, 1, 1, 0, 0, 0, 1, 0, 0, 0, 0, 0, 0,\n",
              "       0, 0, 0, 0, 0, 1, 0, 1, 1, 0, 0, 0, 0, 0, 0, 0, 0, 0, 0, 0, 0, 0,\n",
              "       0, 0, 0, 0, 0, 0, 0, 0, 0, 0, 0, 0, 1, 1, 1, 1, 1, 1, 0])"
            ]
          },
          "metadata": {},
          "execution_count": 16
        }
      ]
    },
    {
      "cell_type": "code",
      "source": [
        "Y.shape"
      ],
      "metadata": {
        "colab": {
          "base_uri": "https://localhost:8080/"
        },
        "id": "2_7-B1pVpwfW",
        "outputId": "55d7a47f-de85-4e58-e75d-572fafa54b4b"
      },
      "execution_count": 17,
      "outputs": [
        {
          "output_type": "execute_result",
          "data": {
            "text/plain": [
              "(569,)"
            ]
          },
          "metadata": {},
          "execution_count": 17
        }
      ]
    },
    {
      "cell_type": "code",
      "source": [
        "X.shape"
      ],
      "metadata": {
        "colab": {
          "base_uri": "https://localhost:8080/"
        },
        "id": "zEdCC6o8mYNw",
        "outputId": "5fb0b55f-9571-449a-e720-d5614bb29083"
      },
      "execution_count": 18,
      "outputs": [
        {
          "output_type": "execute_result",
          "data": {
            "text/plain": [
              "(569, 30)"
            ]
          },
          "metadata": {},
          "execution_count": 18
        }
      ]
    },
    {
      "cell_type": "code",
      "source": [
        "Y.shape"
      ],
      "metadata": {
        "colab": {
          "base_uri": "https://localhost:8080/"
        },
        "id": "CsjJBkYImcDm",
        "outputId": "b86d1a62-0fc6-4172-c3f5-4cb29a078b88"
      },
      "execution_count": 19,
      "outputs": [
        {
          "output_type": "execute_result",
          "data": {
            "text/plain": [
              "(569,)"
            ]
          },
          "metadata": {},
          "execution_count": 19
        }
      ]
    },
    {
      "cell_type": "code",
      "source": [
        "Y"
      ],
      "metadata": {
        "colab": {
          "base_uri": "https://localhost:8080/"
        },
        "id": "Of8dEV-3mlBu",
        "outputId": "8006a403-6920-4404-9470-323fab8d6b73"
      },
      "execution_count": 20,
      "outputs": [
        {
          "output_type": "execute_result",
          "data": {
            "text/plain": [
              "array([1, 1, 1, 1, 1, 1, 1, 1, 1, 1, 1, 1, 1, 1, 1, 1, 1, 1, 1, 0, 0, 0,\n",
              "       1, 1, 1, 1, 1, 1, 1, 1, 1, 1, 1, 1, 1, 1, 1, 0, 1, 1, 1, 1, 1, 1,\n",
              "       1, 1, 0, 1, 0, 0, 0, 0, 0, 1, 1, 0, 1, 1, 0, 0, 0, 0, 1, 0, 1, 1,\n",
              "       0, 0, 0, 0, 1, 0, 1, 1, 0, 1, 0, 1, 1, 0, 0, 0, 1, 1, 0, 1, 1, 1,\n",
              "       0, 0, 0, 1, 0, 0, 1, 1, 0, 0, 0, 1, 1, 0, 0, 0, 0, 1, 0, 0, 1, 0,\n",
              "       0, 0, 0, 0, 0, 0, 0, 1, 1, 1, 0, 1, 1, 0, 0, 0, 1, 1, 0, 1, 0, 1,\n",
              "       1, 0, 1, 1, 0, 0, 1, 0, 0, 1, 0, 0, 0, 0, 1, 0, 0, 0, 0, 0, 0, 0,\n",
              "       0, 0, 1, 0, 0, 0, 0, 1, 1, 0, 1, 0, 0, 1, 1, 0, 0, 1, 1, 0, 0, 0,\n",
              "       0, 1, 0, 0, 1, 1, 1, 0, 1, 0, 1, 0, 0, 0, 1, 0, 0, 1, 1, 0, 1, 1,\n",
              "       1, 1, 0, 1, 1, 1, 0, 1, 0, 1, 0, 0, 1, 0, 1, 1, 1, 1, 0, 0, 1, 1,\n",
              "       0, 0, 0, 1, 0, 0, 0, 0, 0, 1, 1, 0, 0, 1, 0, 0, 1, 1, 0, 1, 0, 0,\n",
              "       0, 0, 1, 0, 0, 0, 0, 0, 1, 0, 1, 1, 1, 1, 1, 1, 1, 1, 1, 1, 1, 1,\n",
              "       1, 1, 0, 0, 0, 0, 0, 0, 1, 0, 1, 0, 0, 1, 0, 0, 1, 0, 1, 1, 0, 0,\n",
              "       0, 0, 0, 0, 0, 0, 0, 0, 0, 0, 0, 1, 0, 0, 1, 0, 1, 0, 0, 0, 0, 0,\n",
              "       0, 0, 0, 0, 0, 0, 0, 0, 0, 1, 0, 0, 0, 1, 0, 1, 0, 0, 0, 0, 1, 1,\n",
              "       1, 0, 0, 0, 0, 1, 0, 1, 0, 1, 0, 0, 0, 1, 0, 0, 0, 0, 0, 0, 0, 1,\n",
              "       1, 1, 0, 0, 0, 0, 0, 0, 0, 0, 0, 0, 0, 1, 1, 0, 1, 1, 1, 0, 1, 1,\n",
              "       0, 0, 0, 0, 0, 1, 0, 0, 0, 0, 0, 1, 0, 0, 0, 1, 0, 0, 1, 1, 0, 0,\n",
              "       0, 0, 0, 0, 1, 0, 0, 0, 0, 0, 0, 0, 1, 0, 0, 0, 0, 0, 1, 0, 0, 1,\n",
              "       0, 0, 0, 0, 0, 0, 0, 0, 0, 0, 0, 0, 1, 0, 1, 1, 0, 1, 0, 0, 0, 0,\n",
              "       0, 1, 0, 0, 1, 0, 1, 0, 0, 1, 0, 1, 0, 0, 0, 0, 0, 0, 0, 0, 1, 1,\n",
              "       0, 0, 0, 0, 0, 0, 1, 0, 0, 0, 0, 0, 0, 0, 0, 0, 0, 1, 0, 0, 0, 0,\n",
              "       0, 0, 0, 1, 0, 1, 0, 0, 1, 0, 0, 0, 0, 0, 1, 1, 0, 1, 0, 1, 0, 0,\n",
              "       0, 0, 0, 1, 0, 0, 1, 0, 1, 0, 1, 1, 0, 0, 0, 1, 0, 0, 0, 0, 0, 0,\n",
              "       0, 0, 0, 0, 0, 1, 0, 1, 1, 0, 0, 0, 0, 0, 0, 0, 0, 0, 0, 0, 0, 0,\n",
              "       0, 0, 0, 0, 0, 0, 0, 0, 0, 0, 0, 0, 1, 1, 1, 1, 1, 1, 0])"
            ]
          },
          "metadata": {},
          "execution_count": 20
        }
      ]
    },
    {
      "cell_type": "code",
      "source": [
        "#split data set into 75% and 25%\n",
        "from sklearn.model_selection import train_test_split\n",
        "X_train,X_test,Y_train,Y_test=train_test_split(X,Y,test_size=0.2,random_state=0)"
      ],
      "metadata": {
        "id": "2lRMpXZqcHNs"
      },
      "execution_count": 21,
      "outputs": []
    },
    {
      "cell_type": "code",
      "source": [
        "X_train"
      ],
      "metadata": {
        "colab": {
          "base_uri": "https://localhost:8080/"
        },
        "id": "tnshd9MEn1iR",
        "outputId": "1db7917e-4d23-4284-9faa-c394ee4528aa"
      },
      "execution_count": 22,
      "outputs": [
        {
          "output_type": "execute_result",
          "data": {
            "text/plain": [
              "array([[1.005e+01, 1.753e+01, 6.441e+01, ..., 6.499e-02, 2.894e-01,\n",
              "        7.664e-02],\n",
              "       [1.080e+01, 2.198e+01, 6.879e+01, ..., 7.485e-02, 2.965e-01,\n",
              "        7.662e-02],\n",
              "       [1.614e+01, 1.486e+01, 1.043e+02, ..., 1.129e-01, 2.778e-01,\n",
              "        7.012e-02],\n",
              "       ...,\n",
              "       [9.436e+00, 1.832e+01, 5.982e+01, ..., 5.052e-02, 2.454e-01,\n",
              "        8.136e-02],\n",
              "       [9.720e+00, 1.822e+01, 6.073e+01, ..., 0.000e+00, 1.909e-01,\n",
              "        6.559e-02],\n",
              "       [1.151e+01, 2.393e+01, 7.452e+01, ..., 9.653e-02, 2.112e-01,\n",
              "        8.732e-02]])"
            ]
          },
          "metadata": {},
          "execution_count": 22
        }
      ]
    },
    {
      "cell_type": "code",
      "source": [
        "#scaleing the data(feature scaling)\n",
        "from sklearn.preprocessing import StandardScaler\n",
        "scaler = StandardScaler()\n",
        "X_train = scaler.fit_transform(X_train)\n",
        "X_test = scaler.transform(X_test)"
      ],
      "metadata": {
        "id": "Ln3SaNzSbzE2"
      },
      "execution_count": 23,
      "outputs": []
    },
    {
      "cell_type": "code",
      "source": [
        "from keras.layers import Conv2D, MaxPooling2D\n",
        "from keras.layers.convolutional import Conv1D  \n",
        "epochs = 100\n",
        "model = Sequential()\n",
        "model.add(Conv1D(filters=32, kernel_size=2, activation='relu', input_shape = (30,1)))\n",
        "\n",
        "model.add(BatchNormalization())\n",
        "model.add(Dropout(0.2))\n",
        "\n",
        "model.add(Conv1D(filters=64, kernel_size=2, activation='relu'))\n",
        "model.add(BatchNormalization())\n",
        "model.add(Dropout(0.5))\n",
        "\n",
        "model.add(Flatten())\n",
        "model.add(Dense(64, activation='relu'))\n",
        "model.add(Dropout(0.5))\n",
        "model.add(Dense(1, activation='sigmoid'))"
      ],
      "metadata": {
        "id": "hmyRprA3b1v0"
      },
      "execution_count": 24,
      "outputs": []
    },
    {
      "cell_type": "code",
      "source": [
        "model.summary()"
      ],
      "metadata": {
        "colab": {
          "base_uri": "https://localhost:8080/"
        },
        "id": "cg073JE6PICR",
        "outputId": "7a6a5f7b-d2f9-4c23-bc03-3547147204db"
      },
      "execution_count": 25,
      "outputs": [
        {
          "output_type": "stream",
          "name": "stdout",
          "text": [
            "Model: \"sequential\"\n",
            "_________________________________________________________________\n",
            " Layer (type)                Output Shape              Param #   \n",
            "=================================================================\n",
            " conv1d (Conv1D)             (None, 29, 32)            96        \n",
            "                                                                 \n",
            " batch_normalization (BatchN  (None, 29, 32)           128       \n",
            " ormalization)                                                   \n",
            "                                                                 \n",
            " dropout (Dropout)           (None, 29, 32)            0         \n",
            "                                                                 \n",
            " conv1d_1 (Conv1D)           (None, 28, 64)            4160      \n",
            "                                                                 \n",
            " batch_normalization_1 (Batc  (None, 28, 64)           256       \n",
            " hNormalization)                                                 \n",
            "                                                                 \n",
            " dropout_1 (Dropout)         (None, 28, 64)            0         \n",
            "                                                                 \n",
            " flatten (Flatten)           (None, 1792)              0         \n",
            "                                                                 \n",
            " dense (Dense)               (None, 64)                114752    \n",
            "                                                                 \n",
            " dropout_2 (Dropout)         (None, 64)                0         \n",
            "                                                                 \n",
            " dense_1 (Dense)             (None, 1)                 65        \n",
            "                                                                 \n",
            "=================================================================\n",
            "Total params: 119,457\n",
            "Trainable params: 119,265\n",
            "Non-trainable params: 192\n",
            "_________________________________________________________________\n"
          ]
        }
      ]
    },
    {
      "cell_type": "code",
      "source": [
        "model.compile(optimizer=Adam(lr=0.00005), loss = 'binary_crossentropy', metrics=['accuracy'])"
      ],
      "metadata": {
        "colab": {
          "base_uri": "https://localhost:8080/"
        },
        "id": "MT1xIAlbUy--",
        "outputId": "27e2f7de-e9c0-4a4e-b8c8-f6610ba48188"
      },
      "execution_count": 26,
      "outputs": [
        {
          "output_type": "stream",
          "name": "stderr",
          "text": [
            "/usr/local/lib/python3.7/dist-packages/keras/optimizer_v2/adam.py:105: UserWarning: The `lr` argument is deprecated, use `learning_rate` instead.\n",
            "  super(Adam, self).__init__(name, **kwargs)\n"
          ]
        }
      ]
    },
    {
      "cell_type": "code",
      "source": [
        "history = model.fit(X_train, Y_train, epochs=epochs, validation_data=(X_test, Y_test), verbose=1)"
      ],
      "metadata": {
        "colab": {
          "base_uri": "https://localhost:8080/"
        },
        "id": "dDEKDbqTnAsh",
        "outputId": "de77412b-c7db-4eda-a7fa-b3366afcdaa3"
      },
      "execution_count": 27,
      "outputs": [
        {
          "output_type": "stream",
          "name": "stdout",
          "text": [
            "Epoch 1/100\n",
            "15/15 [==============================] - 2s 39ms/step - loss: 1.0505 - accuracy: 0.5626 - val_loss: 0.6636 - val_accuracy: 0.6930\n",
            "Epoch 2/100\n",
            "15/15 [==============================] - 0s 12ms/step - loss: 0.7438 - accuracy: 0.6879 - val_loss: 0.6261 - val_accuracy: 0.8246\n",
            "Epoch 3/100\n",
            "15/15 [==============================] - 0s 10ms/step - loss: 0.5968 - accuracy: 0.7385 - val_loss: 0.5876 - val_accuracy: 0.9035\n",
            "Epoch 4/100\n",
            "15/15 [==============================] - 0s 11ms/step - loss: 0.4081 - accuracy: 0.8198 - val_loss: 0.5510 - val_accuracy: 0.9035\n",
            "Epoch 5/100\n",
            "15/15 [==============================] - 0s 11ms/step - loss: 0.3917 - accuracy: 0.8242 - val_loss: 0.5123 - val_accuracy: 0.8772\n",
            "Epoch 6/100\n",
            "15/15 [==============================] - 0s 12ms/step - loss: 0.3786 - accuracy: 0.8462 - val_loss: 0.4787 - val_accuracy: 0.8684\n",
            "Epoch 7/100\n",
            "15/15 [==============================] - 0s 12ms/step - loss: 0.2825 - accuracy: 0.8923 - val_loss: 0.4497 - val_accuracy: 0.8509\n",
            "Epoch 8/100\n",
            "15/15 [==============================] - 0s 11ms/step - loss: 0.2708 - accuracy: 0.9011 - val_loss: 0.4218 - val_accuracy: 0.8860\n",
            "Epoch 9/100\n",
            "15/15 [==============================] - 0s 11ms/step - loss: 0.2542 - accuracy: 0.8967 - val_loss: 0.3948 - val_accuracy: 0.8947\n",
            "Epoch 10/100\n",
            "15/15 [==============================] - 0s 12ms/step - loss: 0.2817 - accuracy: 0.8901 - val_loss: 0.3686 - val_accuracy: 0.8947\n",
            "Epoch 11/100\n",
            "15/15 [==============================] - 0s 12ms/step - loss: 0.2632 - accuracy: 0.8747 - val_loss: 0.3445 - val_accuracy: 0.9035\n",
            "Epoch 12/100\n",
            "15/15 [==============================] - 0s 12ms/step - loss: 0.2540 - accuracy: 0.8923 - val_loss: 0.3230 - val_accuracy: 0.9123\n",
            "Epoch 13/100\n",
            "15/15 [==============================] - 0s 11ms/step - loss: 0.2033 - accuracy: 0.9165 - val_loss: 0.2994 - val_accuracy: 0.9211\n",
            "Epoch 14/100\n",
            "15/15 [==============================] - 0s 12ms/step - loss: 0.2036 - accuracy: 0.9055 - val_loss: 0.2778 - val_accuracy: 0.9298\n",
            "Epoch 15/100\n",
            "15/15 [==============================] - 0s 11ms/step - loss: 0.2088 - accuracy: 0.9385 - val_loss: 0.2555 - val_accuracy: 0.9386\n",
            "Epoch 16/100\n",
            "15/15 [==============================] - 0s 13ms/step - loss: 0.1862 - accuracy: 0.9297 - val_loss: 0.2347 - val_accuracy: 0.9474\n",
            "Epoch 17/100\n",
            "15/15 [==============================] - 0s 12ms/step - loss: 0.1543 - accuracy: 0.9473 - val_loss: 0.2164 - val_accuracy: 0.9474\n",
            "Epoch 18/100\n",
            "15/15 [==============================] - 0s 12ms/step - loss: 0.1704 - accuracy: 0.9341 - val_loss: 0.2003 - val_accuracy: 0.9474\n",
            "Epoch 19/100\n",
            "15/15 [==============================] - 0s 12ms/step - loss: 0.1871 - accuracy: 0.9253 - val_loss: 0.1882 - val_accuracy: 0.9474\n",
            "Epoch 20/100\n",
            "15/15 [==============================] - 0s 11ms/step - loss: 0.1718 - accuracy: 0.9319 - val_loss: 0.1774 - val_accuracy: 0.9474\n",
            "Epoch 21/100\n",
            "15/15 [==============================] - 0s 11ms/step - loss: 0.1582 - accuracy: 0.9297 - val_loss: 0.1669 - val_accuracy: 0.9474\n",
            "Epoch 22/100\n",
            "15/15 [==============================] - 0s 11ms/step - loss: 0.1784 - accuracy: 0.9385 - val_loss: 0.1559 - val_accuracy: 0.9474\n",
            "Epoch 23/100\n",
            "15/15 [==============================] - 0s 12ms/step - loss: 0.1477 - accuracy: 0.9451 - val_loss: 0.1451 - val_accuracy: 0.9474\n",
            "Epoch 24/100\n",
            "15/15 [==============================] - 0s 11ms/step - loss: 0.1346 - accuracy: 0.9451 - val_loss: 0.1386 - val_accuracy: 0.9474\n",
            "Epoch 25/100\n",
            "15/15 [==============================] - 0s 11ms/step - loss: 0.1318 - accuracy: 0.9473 - val_loss: 0.1304 - val_accuracy: 0.9474\n",
            "Epoch 26/100\n",
            "15/15 [==============================] - 0s 12ms/step - loss: 0.1173 - accuracy: 0.9604 - val_loss: 0.1243 - val_accuracy: 0.9474\n",
            "Epoch 27/100\n",
            "15/15 [==============================] - 0s 11ms/step - loss: 0.1431 - accuracy: 0.9538 - val_loss: 0.1185 - val_accuracy: 0.9474\n",
            "Epoch 28/100\n",
            "15/15 [==============================] - 0s 11ms/step - loss: 0.1506 - accuracy: 0.9451 - val_loss: 0.1142 - val_accuracy: 0.9561\n",
            "Epoch 29/100\n",
            "15/15 [==============================] - 0s 12ms/step - loss: 0.1578 - accuracy: 0.9473 - val_loss: 0.1101 - val_accuracy: 0.9561\n",
            "Epoch 30/100\n",
            "15/15 [==============================] - 0s 12ms/step - loss: 0.1333 - accuracy: 0.9473 - val_loss: 0.1062 - val_accuracy: 0.9561\n",
            "Epoch 31/100\n",
            "15/15 [==============================] - 0s 12ms/step - loss: 0.1700 - accuracy: 0.9341 - val_loss: 0.1035 - val_accuracy: 0.9561\n",
            "Epoch 32/100\n",
            "15/15 [==============================] - 0s 12ms/step - loss: 0.1394 - accuracy: 0.9319 - val_loss: 0.1015 - val_accuracy: 0.9561\n",
            "Epoch 33/100\n",
            "15/15 [==============================] - 0s 12ms/step - loss: 0.1224 - accuracy: 0.9451 - val_loss: 0.0990 - val_accuracy: 0.9561\n",
            "Epoch 34/100\n",
            "15/15 [==============================] - 0s 12ms/step - loss: 0.1590 - accuracy: 0.9429 - val_loss: 0.0977 - val_accuracy: 0.9561\n",
            "Epoch 35/100\n",
            "15/15 [==============================] - 0s 12ms/step - loss: 0.1262 - accuracy: 0.9560 - val_loss: 0.0959 - val_accuracy: 0.9649\n",
            "Epoch 36/100\n",
            "15/15 [==============================] - 0s 12ms/step - loss: 0.1558 - accuracy: 0.9538 - val_loss: 0.0936 - val_accuracy: 0.9737\n",
            "Epoch 37/100\n",
            "15/15 [==============================] - 0s 12ms/step - loss: 0.1524 - accuracy: 0.9473 - val_loss: 0.0923 - val_accuracy: 0.9737\n",
            "Epoch 38/100\n",
            "15/15 [==============================] - 0s 11ms/step - loss: 0.1164 - accuracy: 0.9473 - val_loss: 0.0916 - val_accuracy: 0.9649\n",
            "Epoch 39/100\n",
            "15/15 [==============================] - 0s 12ms/step - loss: 0.1270 - accuracy: 0.9626 - val_loss: 0.0904 - val_accuracy: 0.9649\n",
            "Epoch 40/100\n",
            "15/15 [==============================] - 0s 12ms/step - loss: 0.1408 - accuracy: 0.9560 - val_loss: 0.0890 - val_accuracy: 0.9649\n",
            "Epoch 41/100\n",
            "15/15 [==============================] - 0s 11ms/step - loss: 0.0987 - accuracy: 0.9692 - val_loss: 0.0884 - val_accuracy: 0.9561\n",
            "Epoch 42/100\n",
            "15/15 [==============================] - 0s 11ms/step - loss: 0.1297 - accuracy: 0.9495 - val_loss: 0.0874 - val_accuracy: 0.9561\n",
            "Epoch 43/100\n",
            "15/15 [==============================] - 0s 11ms/step - loss: 0.1201 - accuracy: 0.9516 - val_loss: 0.0870 - val_accuracy: 0.9561\n",
            "Epoch 44/100\n",
            "15/15 [==============================] - 0s 10ms/step - loss: 0.0955 - accuracy: 0.9736 - val_loss: 0.0863 - val_accuracy: 0.9561\n",
            "Epoch 45/100\n",
            "15/15 [==============================] - 0s 10ms/step - loss: 0.1021 - accuracy: 0.9604 - val_loss: 0.0854 - val_accuracy: 0.9649\n",
            "Epoch 46/100\n",
            "15/15 [==============================] - 0s 12ms/step - loss: 0.1282 - accuracy: 0.9604 - val_loss: 0.0841 - val_accuracy: 0.9561\n",
            "Epoch 47/100\n",
            "15/15 [==============================] - 0s 11ms/step - loss: 0.1163 - accuracy: 0.9538 - val_loss: 0.0836 - val_accuracy: 0.9561\n",
            "Epoch 48/100\n",
            "15/15 [==============================] - 0s 10ms/step - loss: 0.1142 - accuracy: 0.9670 - val_loss: 0.0843 - val_accuracy: 0.9561\n",
            "Epoch 49/100\n",
            "15/15 [==============================] - 0s 10ms/step - loss: 0.0973 - accuracy: 0.9626 - val_loss: 0.0848 - val_accuracy: 0.9561\n",
            "Epoch 50/100\n",
            "15/15 [==============================] - 0s 11ms/step - loss: 0.1069 - accuracy: 0.9604 - val_loss: 0.0862 - val_accuracy: 0.9561\n",
            "Epoch 51/100\n",
            "15/15 [==============================] - 0s 10ms/step - loss: 0.1022 - accuracy: 0.9626 - val_loss: 0.0857 - val_accuracy: 0.9561\n",
            "Epoch 52/100\n",
            "15/15 [==============================] - 0s 12ms/step - loss: 0.1331 - accuracy: 0.9516 - val_loss: 0.0848 - val_accuracy: 0.9561\n",
            "Epoch 53/100\n",
            "15/15 [==============================] - 0s 11ms/step - loss: 0.1003 - accuracy: 0.9648 - val_loss: 0.0844 - val_accuracy: 0.9561\n",
            "Epoch 54/100\n",
            "15/15 [==============================] - 0s 11ms/step - loss: 0.1130 - accuracy: 0.9626 - val_loss: 0.0850 - val_accuracy: 0.9561\n",
            "Epoch 55/100\n",
            "15/15 [==============================] - 0s 11ms/step - loss: 0.1005 - accuracy: 0.9560 - val_loss: 0.0844 - val_accuracy: 0.9561\n",
            "Epoch 56/100\n",
            "15/15 [==============================] - 0s 11ms/step - loss: 0.1028 - accuracy: 0.9626 - val_loss: 0.0830 - val_accuracy: 0.9561\n",
            "Epoch 57/100\n",
            "15/15 [==============================] - 0s 11ms/step - loss: 0.0882 - accuracy: 0.9604 - val_loss: 0.0838 - val_accuracy: 0.9561\n",
            "Epoch 58/100\n",
            "15/15 [==============================] - 0s 12ms/step - loss: 0.0954 - accuracy: 0.9736 - val_loss: 0.0834 - val_accuracy: 0.9561\n",
            "Epoch 59/100\n",
            "15/15 [==============================] - 0s 11ms/step - loss: 0.0906 - accuracy: 0.9670 - val_loss: 0.0818 - val_accuracy: 0.9561\n",
            "Epoch 60/100\n",
            "15/15 [==============================] - 0s 12ms/step - loss: 0.1318 - accuracy: 0.9648 - val_loss: 0.0808 - val_accuracy: 0.9649\n",
            "Epoch 61/100\n",
            "15/15 [==============================] - 0s 12ms/step - loss: 0.0947 - accuracy: 0.9582 - val_loss: 0.0809 - val_accuracy: 0.9649\n",
            "Epoch 62/100\n",
            "15/15 [==============================] - 0s 11ms/step - loss: 0.1061 - accuracy: 0.9626 - val_loss: 0.0809 - val_accuracy: 0.9649\n",
            "Epoch 63/100\n",
            "15/15 [==============================] - 0s 11ms/step - loss: 0.1144 - accuracy: 0.9648 - val_loss: 0.0815 - val_accuracy: 0.9561\n",
            "Epoch 64/100\n",
            "15/15 [==============================] - 0s 12ms/step - loss: 0.0871 - accuracy: 0.9714 - val_loss: 0.0813 - val_accuracy: 0.9561\n",
            "Epoch 65/100\n",
            "15/15 [==============================] - 0s 11ms/step - loss: 0.0932 - accuracy: 0.9714 - val_loss: 0.0810 - val_accuracy: 0.9561\n",
            "Epoch 66/100\n",
            "15/15 [==============================] - 0s 11ms/step - loss: 0.1006 - accuracy: 0.9692 - val_loss: 0.0801 - val_accuracy: 0.9649\n",
            "Epoch 67/100\n",
            "15/15 [==============================] - 0s 11ms/step - loss: 0.0852 - accuracy: 0.9758 - val_loss: 0.0771 - val_accuracy: 0.9649\n",
            "Epoch 68/100\n",
            "15/15 [==============================] - 0s 12ms/step - loss: 0.1059 - accuracy: 0.9582 - val_loss: 0.0762 - val_accuracy: 0.9649\n",
            "Epoch 69/100\n",
            "15/15 [==============================] - 0s 12ms/step - loss: 0.0890 - accuracy: 0.9626 - val_loss: 0.0747 - val_accuracy: 0.9649\n",
            "Epoch 70/100\n",
            "15/15 [==============================] - 0s 12ms/step - loss: 0.0847 - accuracy: 0.9758 - val_loss: 0.0746 - val_accuracy: 0.9649\n",
            "Epoch 71/100\n",
            "15/15 [==============================] - 0s 11ms/step - loss: 0.0890 - accuracy: 0.9692 - val_loss: 0.0745 - val_accuracy: 0.9649\n",
            "Epoch 72/100\n",
            "15/15 [==============================] - 0s 11ms/step - loss: 0.0712 - accuracy: 0.9692 - val_loss: 0.0739 - val_accuracy: 0.9649\n",
            "Epoch 73/100\n",
            "15/15 [==============================] - 0s 11ms/step - loss: 0.1091 - accuracy: 0.9582 - val_loss: 0.0726 - val_accuracy: 0.9649\n",
            "Epoch 74/100\n",
            "15/15 [==============================] - 0s 10ms/step - loss: 0.1018 - accuracy: 0.9670 - val_loss: 0.0724 - val_accuracy: 0.9649\n",
            "Epoch 75/100\n",
            "15/15 [==============================] - 0s 12ms/step - loss: 0.0887 - accuracy: 0.9626 - val_loss: 0.0714 - val_accuracy: 0.9649\n",
            "Epoch 76/100\n",
            "15/15 [==============================] - 0s 12ms/step - loss: 0.0885 - accuracy: 0.9626 - val_loss: 0.0710 - val_accuracy: 0.9737\n",
            "Epoch 77/100\n",
            "15/15 [==============================] - 0s 10ms/step - loss: 0.0844 - accuracy: 0.9692 - val_loss: 0.0710 - val_accuracy: 0.9737\n",
            "Epoch 78/100\n",
            "15/15 [==============================] - 0s 11ms/step - loss: 0.0781 - accuracy: 0.9758 - val_loss: 0.0711 - val_accuracy: 0.9737\n",
            "Epoch 79/100\n",
            "15/15 [==============================] - 0s 10ms/step - loss: 0.0829 - accuracy: 0.9648 - val_loss: 0.0708 - val_accuracy: 0.9737\n",
            "Epoch 80/100\n",
            "15/15 [==============================] - 0s 11ms/step - loss: 0.0625 - accuracy: 0.9758 - val_loss: 0.0715 - val_accuracy: 0.9737\n",
            "Epoch 81/100\n",
            "15/15 [==============================] - 0s 12ms/step - loss: 0.1093 - accuracy: 0.9692 - val_loss: 0.0710 - val_accuracy: 0.9737\n",
            "Epoch 82/100\n",
            "15/15 [==============================] - 0s 11ms/step - loss: 0.0750 - accuracy: 0.9692 - val_loss: 0.0707 - val_accuracy: 0.9649\n",
            "Epoch 83/100\n",
            "15/15 [==============================] - 0s 12ms/step - loss: 0.0996 - accuracy: 0.9692 - val_loss: 0.0709 - val_accuracy: 0.9649\n",
            "Epoch 84/100\n",
            "15/15 [==============================] - 0s 12ms/step - loss: 0.0931 - accuracy: 0.9626 - val_loss: 0.0723 - val_accuracy: 0.9649\n",
            "Epoch 85/100\n",
            "15/15 [==============================] - 0s 11ms/step - loss: 0.0687 - accuracy: 0.9824 - val_loss: 0.0727 - val_accuracy: 0.9649\n",
            "Epoch 86/100\n",
            "15/15 [==============================] - 0s 11ms/step - loss: 0.0806 - accuracy: 0.9670 - val_loss: 0.0732 - val_accuracy: 0.9649\n",
            "Epoch 87/100\n",
            "15/15 [==============================] - 0s 12ms/step - loss: 0.0809 - accuracy: 0.9670 - val_loss: 0.0726 - val_accuracy: 0.9649\n",
            "Epoch 88/100\n",
            "15/15 [==============================] - 0s 11ms/step - loss: 0.1020 - accuracy: 0.9604 - val_loss: 0.0716 - val_accuracy: 0.9737\n",
            "Epoch 89/100\n",
            "15/15 [==============================] - 0s 11ms/step - loss: 0.1010 - accuracy: 0.9670 - val_loss: 0.0682 - val_accuracy: 0.9649\n",
            "Epoch 90/100\n",
            "15/15 [==============================] - 0s 11ms/step - loss: 0.0756 - accuracy: 0.9736 - val_loss: 0.0661 - val_accuracy: 0.9737\n",
            "Epoch 91/100\n",
            "15/15 [==============================] - 0s 11ms/step - loss: 0.0796 - accuracy: 0.9736 - val_loss: 0.0657 - val_accuracy: 0.9737\n",
            "Epoch 92/100\n",
            "15/15 [==============================] - 0s 11ms/step - loss: 0.0675 - accuracy: 0.9802 - val_loss: 0.0656 - val_accuracy: 0.9737\n",
            "Epoch 93/100\n",
            "15/15 [==============================] - 0s 11ms/step - loss: 0.1040 - accuracy: 0.9648 - val_loss: 0.0662 - val_accuracy: 0.9737\n",
            "Epoch 94/100\n",
            "15/15 [==============================] - 0s 11ms/step - loss: 0.0654 - accuracy: 0.9736 - val_loss: 0.0663 - val_accuracy: 0.9737\n",
            "Epoch 95/100\n",
            "15/15 [==============================] - 0s 10ms/step - loss: 0.0824 - accuracy: 0.9714 - val_loss: 0.0661 - val_accuracy: 0.9737\n",
            "Epoch 96/100\n",
            "15/15 [==============================] - 0s 11ms/step - loss: 0.0798 - accuracy: 0.9758 - val_loss: 0.0662 - val_accuracy: 0.9737\n",
            "Epoch 97/100\n",
            "15/15 [==============================] - 0s 12ms/step - loss: 0.0734 - accuracy: 0.9670 - val_loss: 0.0659 - val_accuracy: 0.9737\n",
            "Epoch 98/100\n",
            "15/15 [==============================] - 0s 11ms/step - loss: 0.0749 - accuracy: 0.9736 - val_loss: 0.0658 - val_accuracy: 0.9737\n",
            "Epoch 99/100\n",
            "15/15 [==============================] - 0s 12ms/step - loss: 0.0930 - accuracy: 0.9692 - val_loss: 0.0661 - val_accuracy: 0.9737\n",
            "Epoch 100/100\n",
            "15/15 [==============================] - 0s 11ms/step - loss: 0.0652 - accuracy: 0.9736 - val_loss: 0.0665 - val_accuracy: 0.9737\n"
          ]
        }
      ]
    },
    {
      "cell_type": "code",
      "source": [
        "#now testing for Test data\n",
        "y_pred = model.predict(X_test)\n",
        "y_pred = (y_pred>0.5)"
      ],
      "metadata": {
        "id": "PfTsjQvetH1P"
      },
      "execution_count": 28,
      "outputs": []
    },
    {
      "cell_type": "code",
      "source": [
        "from sklearn.metrics import confusion_matrix\n",
        "from sklearn.metrics import accuracy_score\n",
        "\n",
        "cm = confusion_matrix(Y_test,y_pred)\n",
        "score = accuracy_score(Y_test,y_pred)\n",
        "\n",
        "print(cm)\n",
        "print('accuracy is:',score)"
      ],
      "metadata": {
        "id": "t_jmjSDGVYQ-",
        "colab": {
          "base_uri": "https://localhost:8080/"
        },
        "outputId": "cd7f1da3-e22e-44fc-b381-b7de259359a8"
      },
      "execution_count": 29,
      "outputs": [
        {
          "output_type": "stream",
          "name": "stdout",
          "text": [
            "[[66  1]\n",
            " [ 2 45]]\n",
            "accuracy is: 0.9736842105263158\n"
          ]
        }
      ]
    },
    {
      "cell_type": "code",
      "source": [
        "# summarize history for loss\n",
        "plt.plot(history.history['loss'])\n",
        "plt.plot(history.history['val_loss'])\n",
        "plt.title('model loss')\n",
        "plt.ylabel('loss')\n",
        "plt.xlabel('epoch')\n",
        "plt.legend(['train', 'test'], loc='upper left')\n",
        "plt.show()\n",
        "\n",
        "# # summarize history for accuracy\n",
        "plt.plot(history.history['accuracy'])\n",
        "plt.plot(history.history['val_accuracy'])\n",
        "plt.title('model accuracy')\n",
        "plt.ylabel('accuracy')\n",
        "plt.xlabel('epoch')\n",
        "plt.legend(['train', 'test'], loc='upper right')\n",
        "plt.show()"
      ],
      "metadata": {
        "colab": {
          "base_uri": "https://localhost:8080/",
          "height": 573
        },
        "id": "o9BbKddfKFeD",
        "outputId": "bc84c3d8-5bb2-4918-b9aa-9c255d8269c2"
      },
      "execution_count": 30,
      "outputs": [
        {
          "output_type": "display_data",
          "data": {
            "text/plain": [
              "<Figure size 432x288 with 1 Axes>"
            ],
            "image/png": "[encoded data removed]"
          },
          "metadata": {
            "needs_background": "light"
          }
        },
        {
          "output_type": "display_data",
          "data": {
            "text/plain": [
              "<Figure size 432x288 with 1 Axes>"
            ],
            "image/png": "[encoded data removed]"
          },
          "metadata": {
            "needs_background": "light"
          }
        }
      ]
    },
    {
      "cell_type": "code",
      "source": [
        ""
      ],
      "metadata": {
        "id": "fr80qh7CK3za"
      },
      "execution_count": 30,
      "outputs": []
    }
  ]
}